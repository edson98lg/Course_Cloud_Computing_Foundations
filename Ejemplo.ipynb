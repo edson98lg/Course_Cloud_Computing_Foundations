{
  "nbformat": 4,
  "nbformat_minor": 0,
  "metadata": {
    "colab": {
      "provenance": [],
      "authorship_tag": "ABX9TyMHqBeB8XfWq5Egbs5Ch3WJ",
      "include_colab_link": true
    },
    "kernelspec": {
      "name": "python3",
      "display_name": "Python 3"
    },
    "language_info": {
      "name": "python"
    }
  },
  "cells": [
    {
      "cell_type": "markdown",
      "metadata": {
        "id": "view-in-github",
        "colab_type": "text"
      },
      "source": [
        "<a href=\"https://colab.research.google.com/github/edson98lg/Course_Cloud_Computing_Foundations/blob/main/Ejemplo.ipynb\" target=\"_parent\"><img src=\"https://colab.research.google.com/assets/colab-badge.svg\" alt=\"Open In Colab\"/></a>"
      ]
    },
    {
      "cell_type": "markdown",
      "source": [
        "## First example\n",
        "### Cloud computing foundations by Duke\n",
        "### *Week 1*\n"
      ],
      "metadata": {
        "id": "0V2eF7mc_cBj"
      }
    },
    {
      "cell_type": "code",
      "execution_count": 9,
      "metadata": {
        "id": "Z8PQiRpt9sQ1"
      },
      "outputs": [],
      "source": [
        "def hello():\n",
        "  return \"Hello World!\""
      ]
    },
    {
      "cell_type": "code",
      "source": [
        "print(hello())"
      ],
      "metadata": {
        "colab": {
          "base_uri": "https://localhost:8080/"
        },
        "id": "P2mMvNn099Fq",
        "outputId": "fbfb01c1-0172-4662-e446-aacd5a863130"
      },
      "execution_count": 11,
      "outputs": [
        {
          "output_type": "stream",
          "name": "stdout",
          "text": [
            "Hello World!\n"
          ]
        }
      ]
    }
  ]
}